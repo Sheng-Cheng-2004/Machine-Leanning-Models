{
 "cells": [
  {
   "cell_type": "code",
   "execution_count": 1,
   "metadata": {},
   "outputs": [],
   "source": [
    "import numpy as np\n",
    "import pandas as pd"
   ]
  },
  {
   "cell_type": "code",
   "execution_count": 5,
   "metadata": {},
   "outputs": [],
   "source": [
    "def matrix_multiply(X,Y):\n",
    "    if X.shape[1] == Y.shape[0]:\n",
    "        result = np.empty((X.shape[0], Y.shape[1]))\n",
    "        \n",
    "        for i in range(X.shape[0]):\n",
    "            for j in range(Y.shape[1]):\n",
    "                result[i, j] =  0\n",
    "                for a in X[i]:\n",
    "                    for b in Y[:, j]:\n",
    "                        result[i, j] += a*b\n",
    "\n",
    "        return result\n",
    "    else:\n",
    "        raise KeyError('check the dimension of matrix')"
   ]
  },
  {
   "cell_type": "code",
   "execution_count": 6,
   "metadata": {},
   "outputs": [
    {
     "data": {
      "text/plain": [
       "array([[18., 36., 54.],\n",
       "       [18., 36., 54.],\n",
       "       [18., 36., 54.]])"
      ]
     },
     "execution_count": 6,
     "metadata": {},
     "output_type": "execute_result"
    }
   ],
   "source": [
    "A = np.array([[1,2,3],\n",
    "             [1,2,3],\n",
    "             [1,2,3]])\n",
    "\n",
    "B = np.array([[1,2,3],\n",
    "             [1,2,3],\n",
    "             [1,2,3]])\n",
    "\n",
    "matrix_multiply(A, B)"
   ]
  },
  {
   "cell_type": "code",
   "execution_count": 12,
   "metadata": {},
   "outputs": [],
   "source": [
    "def trans_matrix(X):\n",
    "    n, m = X.shape[0], X.shape[1]\n",
    "    result = np.empty((m, n))\n",
    "\n",
    "    for i in range(n):\n",
    "        for j in range(m):\n",
    "            result[j, i] = X[i, j]\n",
    "    return result"
   ]
  },
  {
   "cell_type": "code",
   "execution_count": 15,
   "metadata": {},
   "outputs": [],
   "source": [
    "def inv_matrix(X):\n",
    "    return np.linalg.inv(X)"
   ]
  },
  {
   "cell_type": "code",
   "execution_count": 14,
   "metadata": {},
   "outputs": [
    {
     "data": {
      "text/plain": [
       "array([[1., 1., 1.],\n",
       "       [2., 2., 2.],\n",
       "       [3., 3., 3.]])"
      ]
     },
     "execution_count": 14,
     "metadata": {},
     "output_type": "execute_result"
    }
   ],
   "source": [
    "A = np.array([[1,2,3],\n",
    "             [1,2,3],\n",
    "             [1,2,3]])\n",
    "\n",
    "trans_matrix(A)"
   ]
  },
  {
   "cell_type": "code",
   "execution_count": 16,
   "metadata": {},
   "outputs": [],
   "source": [
    "    \n",
    "class linear_model:\n",
    "\n",
    "    def  __init__(self):\n",
    "        pass\n",
    "        \n",
    "    class linear_regression:\n",
    "        def __init__(self):\n",
    "            self.beta = None\n",
    "            self.Xtrain = None\n",
    "            self.ytrain = None\n",
    "            pass\n",
    "\n",
    "        def fit(self, X, y):\n",
    "            if X.shape[0] == y.shape[0]:\n",
    "                self.Xtrain = X\n",
    "                self.ytrain = y\n",
    "                self.beta = matrix_multiply(matrix_multiply(inv_matrix(matrix_multiply(trans_matrix(X), X)), trans_matrix(X)), y)\n",
    "            else:\n",
    "                raise ValueError('check dimension')\n",
    "            \n",
    "        def metrics(self):\n",
    "            mse = 0\n",
    "            for i in self.ytrain:\n",
    "                mse += (self.predict(self.Xtrain) - i)**2\n",
    "            print(f'mse: {mse}')\n",
    "\n",
    "        def predict(self, X):\n",
    "            y_pred = matrix_multiply(self.beta, X)\n",
    "            return y_pred\n"
   ]
  },
  {
   "cell_type": "markdown",
   "metadata": {},
   "source": [
    "## Linear model test"
   ]
  },
  {
   "cell_type": "code",
   "execution_count": null,
   "metadata": {},
   "outputs": [],
   "source": []
  }
 ],
 "metadata": {
  "kernelspec": {
   "display_name": "base",
   "language": "python",
   "name": "python3"
  },
  "language_info": {
   "codemirror_mode": {
    "name": "ipython",
    "version": 3
   },
   "file_extension": ".py",
   "mimetype": "text/x-python",
   "name": "python",
   "nbconvert_exporter": "python",
   "pygments_lexer": "ipython3",
   "version": "3.9.13"
  }
 },
 "nbformat": 4,
 "nbformat_minor": 2
}
